{
 "cells": [
  {
   "cell_type": "code",
   "execution_count": 2,
   "id": "563f74af-e2dd-484b-9900-1199105deb4c",
   "metadata": {},
   "outputs": [],
   "source": [
    "import numpy as np\n",
    "import pandas as pd\n",
    "import matplotlib.pyplot as plt\n",
    "import seaborn as sns\n",
    "import csv"
   ]
  },
  {
   "cell_type": "code",
   "execution_count": 6,
   "id": "8eabd362-09e9-418d-a86b-4a10f90cbadd",
   "metadata": {},
   "outputs": [],
   "source": [
    "df=pd.read_csv(\"marksheet.csv\")"
   ]
  },
  {
   "cell_type": "code",
   "execution_count": 11,
   "id": "7f3a68f9-de93-4aaf-bdb5-5a8295782a9e",
   "metadata": {},
   "outputs": [
    {
     "data": {
      "text/html": [
       "<div>\n",
       "<style scoped>\n",
       "    .dataframe tbody tr th:only-of-type {\n",
       "        vertical-align: middle;\n",
       "    }\n",
       "\n",
       "    .dataframe tbody tr th {\n",
       "        vertical-align: top;\n",
       "    }\n",
       "\n",
       "    .dataframe thead th {\n",
       "        text-align: right;\n",
       "    }\n",
       "</style>\n",
       "<table border=\"1\" class=\"dataframe\">\n",
       "  <thead>\n",
       "    <tr style=\"text-align: right;\">\n",
       "      <th></th>\n",
       "      <th>s_no</th>\n",
       "      <th>Student name</th>\n",
       "      <th>Class</th>\n",
       "      <th>English</th>\n",
       "      <th>Maths</th>\n",
       "      <th>Science</th>\n",
       "      <th>Computer</th>\n",
       "      <th>Hindi</th>\n",
       "      <th>Total</th>\n",
       "      <th>Percentage</th>\n",
       "      <th>Result</th>\n",
       "    </tr>\n",
       "  </thead>\n",
       "  <tbody>\n",
       "    <tr>\n",
       "      <th>0</th>\n",
       "      <td>1</td>\n",
       "      <td>Ankit</td>\n",
       "      <td>1</td>\n",
       "      <td>48</td>\n",
       "      <td>66</td>\n",
       "      <td>91</td>\n",
       "      <td>69</td>\n",
       "      <td>40</td>\n",
       "      <td>314</td>\n",
       "      <td>62.8</td>\n",
       "      <td>First Division</td>\n",
       "    </tr>\n",
       "    <tr>\n",
       "      <th>1</th>\n",
       "      <td>2</td>\n",
       "      <td>Ayush</td>\n",
       "      <td>1</td>\n",
       "      <td>22</td>\n",
       "      <td>83</td>\n",
       "      <td>58</td>\n",
       "      <td>41</td>\n",
       "      <td>49</td>\n",
       "      <td>253</td>\n",
       "      <td>50.6</td>\n",
       "      <td>Second Division</td>\n",
       "    </tr>\n",
       "    <tr>\n",
       "      <th>2</th>\n",
       "      <td>3</td>\n",
       "      <td>Aastha</td>\n",
       "      <td>1</td>\n",
       "      <td>58</td>\n",
       "      <td>80</td>\n",
       "      <td>66</td>\n",
       "      <td>74</td>\n",
       "      <td>23</td>\n",
       "      <td>301</td>\n",
       "      <td>60.2</td>\n",
       "      <td>First Division</td>\n",
       "    </tr>\n",
       "    <tr>\n",
       "      <th>3</th>\n",
       "      <td>4</td>\n",
       "      <td>Piyush</td>\n",
       "      <td>1</td>\n",
       "      <td>86</td>\n",
       "      <td>22</td>\n",
       "      <td>89</td>\n",
       "      <td>69</td>\n",
       "      <td>27</td>\n",
       "      <td>293</td>\n",
       "      <td>58.6</td>\n",
       "      <td>Second Division</td>\n",
       "    </tr>\n",
       "    <tr>\n",
       "      <th>4</th>\n",
       "      <td>5</td>\n",
       "      <td>Gaurav</td>\n",
       "      <td>1</td>\n",
       "      <td>67</td>\n",
       "      <td>80</td>\n",
       "      <td>21</td>\n",
       "      <td>84</td>\n",
       "      <td>77</td>\n",
       "      <td>329</td>\n",
       "      <td>65.8</td>\n",
       "      <td>First Division</td>\n",
       "    </tr>\n",
       "  </tbody>\n",
       "</table>\n",
       "</div>"
      ],
      "text/plain": [
       "   s_no Student name  Class  English  Maths  Science  Computer  Hindi  Total  \\\n",
       "0     1        Ankit      1       48     66       91        69     40    314   \n",
       "1     2        Ayush      1       22     83       58        41     49    253   \n",
       "2     3       Aastha      1       58     80       66        74     23    301   \n",
       "3     4       Piyush      1       86     22       89        69     27    293   \n",
       "4     5       Gaurav      1       67     80       21        84     77    329   \n",
       "\n",
       "   Percentage           Result  \n",
       "0        62.8   First Division  \n",
       "1        50.6  Second Division  \n",
       "2        60.2   First Division  \n",
       "3        58.6  Second Division  \n",
       "4        65.8   First Division  "
      ]
     },
     "execution_count": 11,
     "metadata": {},
     "output_type": "execute_result"
    }
   ],
   "source": [
    "df.head()"
   ]
  },
  {
   "cell_type": "code",
   "execution_count": 12,
   "id": "746077aa-b4f1-4cfb-8f19-85fd760a64ca",
   "metadata": {},
   "outputs": [
    {
     "data": {
      "image/png": "[encoded data removed]",
      "text/plain": [
       "<Figure size 640x480 with 1 Axes>"
      ]
     },
     "metadata": {},
     "output_type": "display_data"
    }
   ],
   "source": [
    "sns.barplot(y='Class',x='Result' ,data = df,hue='Class')\n",
    "sns.set_style('darkgrid')\n",
    "plt.show()"
   ]
  },
  {
   "cell_type": "code",
   "execution_count": 72,
   "id": "652f9b51-dc05-4083-a3ff-f9df03ee151f",
   "metadata": {},
   "outputs": [
    {
     "name": "stdout",
     "output_type": "stream",
     "text": [
      "Name of students having  First Division in class1:\n",
      "Ankit\n",
      "Aastha\n",
      "Gaurav\n",
      "Ajay\n",
      "Abhay\n",
      "Rahul\n",
      "Shivam\n"
     ]
    }
   ],
   "source": [
    "df=pd.read_csv(\"marksheet.csv\")\n",
    "division='First Division'\n",
    "Class=1\n",
    "fil_df=df[(df['Result']==division)&(df['Class']==Class_1)]\n",
    "if not fil_df.empty:\n",
    "    print(\"Name of students having  {} in class{}:\".format(division,Class))\n",
    "    for name in fil_df['Student name']:\n",
    "        print(name)\n",
    "else:\n",
    "    print(\"no student found in {} Student name{}.\".format(division,Class))"
   ]
  },
  {
   "cell_type": "code",
   "execution_count": 29,
   "id": "02bf2279-7935-4214-a6c7-d95a3afdabcf",
   "metadata": {},
   "outputs": [
    {
     "name": "stdout",
     "output_type": "stream",
     "text": [
      "   s_no Student name  Class  English  Maths  Science  Computer  Hindi  Total  \\\n",
      "0     1        Ankit      1       48     66       91        69     40    314   \n",
      "\n",
      "   Percentage          Result  \n",
      "0        62.8  First Division  \n"
     ]
    }
   ],
   "source": [
    "fil_df=df[(df['Student name']=='Ankit')&(df['Class']==1)]\n",
    "print(fil_df)"
   ]
  },
  {
   "cell_type": "code",
   "execution_count": 42,
   "id": "40799bc7-aee6-435c-bf33-8d0cedc1f19f",
   "metadata": {},
   "outputs": [
    {
     "data": {
      "image/png": "[encoded data removed]",
      "text/plain": [
       "<Figure size 640x480 with 1 Axes>"
      ]
     },
     "metadata": {},
     "output_type": "display_data"
    }
   ],
   "source": [
    "fil_df.plot(y=['English','Maths','Science','Computer','Hindi'],x='Student name',kind='bar')\n",
    "\n",
    "plt.show()"
   ]
  },
  {
   "cell_type": "code",
   "execution_count": null,
   "id": "404fe238-49aa-44c5-baf2-69a03319a82d",
   "metadata": {},
   "outputs": [],
   "source": []
  }
 ],
 "metadata": {
  "kernelspec": {
   "display_name": "Python 3 (ipykernel)",
   "language": "python",
   "name": "python3"
  },
  "language_info": {
   "codemirror_mode": {
    "name": "ipython",
    "version": 3
   },
   "file_extension": ".py",
   "mimetype": "text/x-python",
   "name": "python",
   "nbconvert_exporter": "python",
   "pygments_lexer": "ipython3",
   "version": "3.12.0"
  }
 },
 "nbformat": 4,
 "nbformat_minor": 5
}
